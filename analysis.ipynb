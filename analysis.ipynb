{
 "cells": [
  {
   "cell_type": "markdown",
   "metadata": {},
   "source": [
    "## Set-up"
   ]
  },
  {
   "cell_type": "code",
   "execution_count": 3,
   "metadata": {},
   "outputs": [],
   "source": [
    "# Import necessary libraries\n",
    "import pandas as pd\n",
    "from ucimlrepo import fetch_ucirepo"
   ]
  },
  {
   "cell_type": "code",
   "execution_count": 2,
   "metadata": {},
   "outputs": [],
   "source": [
    "# Fetch the dataset\n",
    "online_retail = fetch_ucirepo(id=352)\n",
    "X = online_retail.data.features"
   ]
  },
  {
   "cell_type": "markdown",
   "metadata": {},
   "source": [
    "## Data Exploration"
   ]
  },
  {
   "cell_type": "code",
   "execution_count": 11,
   "metadata": {},
   "outputs": [
    {
     "name": "stdout",
     "output_type": "stream",
     "text": [
      "             Column Name Data Type  Non-Null Count  Null Count\n",
      "Description  Description    object          540455        1454\n",
      "Quantity        Quantity     int64          541909           0\n",
      "InvoiceDate  InvoiceDate    object          541909           0\n",
      "UnitPrice      UnitPrice   float64          541909           0\n",
      "CustomerID    CustomerID   float64          406829      135080\n",
      "Country          Country    object          541909           0\n"
     ]
    }
   ],
   "source": [
    "# variable information \n",
    "column_info = pd.DataFrame({\n",
    "    'Column Name': X.columns,\n",
    "    'Data Type': X.dtypes,\n",
    "    'Non-Null Count': X.count(),\n",
    "    'Null Count': X.isnull().sum()\n",
    "})\n",
    "print(column_info)"
   ]
  },
  {
   "cell_type": "code",
   "execution_count": 12,
   "metadata": {},
   "outputs": [
    {
     "name": "stdout",
     "output_type": "stream",
     "text": [
      "   Column Name  Distinct Value Count\n",
      "2  InvoiceDate                 23260\n",
      "4   CustomerID                  4372\n",
      "0  Description                  4223\n",
      "3    UnitPrice                  1630\n",
      "1     Quantity                   722\n",
      "5      Country                    38\n"
     ]
    }
   ],
   "source": [
    "# Calculate distinct value counts for each column\n",
    "distinct_counts = X.nunique()\n",
    "\n",
    "# Create a DataFrame with the results\n",
    "distinct_counts_df = pd.DataFrame({\n",
    "    'Column Name': distinct_counts.index,\n",
    "    'Distinct Value Count': distinct_counts.values\n",
    "})\n",
    "\n",
    "# Sort the DataFrame by distinct value count in descending order\n",
    "distinct_counts_df = distinct_counts_df.sort_values('Distinct Value Count', ascending=False)\n",
    "\n",
    "# Display the results\n",
    "print(distinct_counts_df)"
   ]
  }
 ],
 "metadata": {
  "kernelspec": {
   "display_name": "venv",
   "language": "python",
   "name": "python3"
  },
  "language_info": {
   "codemirror_mode": {
    "name": "ipython",
    "version": 3
   },
   "file_extension": ".py",
   "mimetype": "text/x-python",
   "name": "python",
   "nbconvert_exporter": "python",
   "pygments_lexer": "ipython3",
   "version": "3.10.0"
  }
 },
 "nbformat": 4,
 "nbformat_minor": 2
}
